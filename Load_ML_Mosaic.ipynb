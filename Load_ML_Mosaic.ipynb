{
 "cells": [
  {
   "cell_type": "code",
   "execution_count": null,
   "metadata": {},
   "outputs": [],
   "source": [
    "from pystac_client import Client\n",
    "from odc.stac import load\n",
    "from matplotlib import colors"
   ]
  },
  {
   "cell_type": "code",
   "execution_count": null,
   "metadata": {},
   "outputs": [],
   "source": [
    "catalog = \"https://stac.staging.digitalearthpacific.org\"\n",
    "client = Client.open(catalog)"
   ]
  },
  {
   "cell_type": "code",
   "execution_count": null,
   "metadata": {},
   "outputs": [],
   "source": [
    "fiji_bbox = [177.2, -18.4, 178.9, -17.2]\n",
    "datetime = \"2023\"\n",
    "\n",
    "items = list(client.search(collections=[\"dep_s2s1_mrd\"], bbox=fiji_bbox).items())\n",
    "\n",
    "print(f\"Found {len(items)} items\")"
   ]
  },
  {
   "cell_type": "code",
   "execution_count": null,
   "metadata": {},
   "outputs": [],
   "source": [
    "data = load(items, bbox=fiji_bbox, resolution=100, chunks={})\n",
    "data"
   ]
  },
  {
   "cell_type": "code",
   "execution_count": null,
   "metadata": {},
   "outputs": [],
   "source": [
    "classes = [\n",
    "    [1, \"bare_land\", \"#968640\"],\n",
    "    [2, \"forest\", \"#064a00\"],\n",
    "    [3, \"crops\", \"#ffce33\"],\n",
    "    [4, \"grassland\", \"#d7ffa0\"],\n",
    "    [5, \"settlements\", \"#b3b2ae\"],\n",
    "    [6, \"mangroves\", \"#07b28d\"],\n",
    "    [7, \"water\", \"#71a8ff\"],\n",
    "    [8, \"quarry\", \"#b03a2e\"]\n",
    "]\n",
    "\n",
    "values_list = [c[0] for c in classes]\n",
    "color_list = [c[2] for c in classes]\n",
    "\n",
    "# Build a listed colormap.\n",
    "c_map = colors.ListedColormap(color_list)\n",
    "bounds = values_list + [9]\n",
    "norm = colors.BoundaryNorm(bounds, c_map.N)\n",
    "\n",
    "data[\"class\"].isel(time=0).plot.imshow(cmap=c_map, norm=norm, size=10)"
   ]
  }
 ],
 "metadata": {
  "kernelspec": {
   "display_name": "Python 3",
   "language": "python",
   "name": "python3"
  },
  "language_info": {
   "codemirror_mode": {
    "name": "ipython",
    "version": 3
   },
   "file_extension": ".py",
   "mimetype": "text/x-python",
   "name": "python",
   "nbconvert_exporter": "python",
   "pygments_lexer": "ipython3",
   "version": "3.11.6"
  }
 },
 "nbformat": 4,
 "nbformat_minor": 2
}
