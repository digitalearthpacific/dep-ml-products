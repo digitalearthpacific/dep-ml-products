{
 "cells": [
  {
   "cell_type": "code",
   "execution_count": null,
   "metadata": {},
   "outputs": [],
   "source": [
    "from datacube.utils.dask import start_local_dask\n",
    "from dep_tools.namers import LocalPath\n",
    "from dep_tools.writers import LocalDsCogWriter\n",
    "\n",
    "from src.run_task import get_tiles, MLProcessor, add_indices\n",
    "\n",
    "from dep_tools.searchers import PystacSearcher\n",
    "from dep_tools.loaders import OdcLoader\n",
    "\n",
    "import xarray as xr"
   ]
  },
  {
   "cell_type": "code",
   "execution_count": null,
   "metadata": {},
   "outputs": [],
   "source": [
    "%load_ext autoreload\n",
    "%autoreload 2"
   ]
  },
  {
   "cell_type": "code",
   "execution_count": null,
   "metadata": {},
   "outputs": [],
   "source": [
    "# Optionally set up a local dask cluster\n",
    "client = start_local_dask()\n",
    "client.dashboard_link"
   ]
  },
  {
   "cell_type": "code",
   "execution_count": null,
   "metadata": {},
   "outputs": [],
   "source": [
    "# Issues\n",
    "\n",
    "# Study site configuration\n",
    "tile_id = \"63,20\"\n",
    "year = \"2023\"\n",
    "\n",
    "# And get the study site\n",
    "tiles = get_tiles()\n",
    "area = tiles.loc[[(tile_id)]]\n",
    "area.explore()"
   ]
  },
  {
   "cell_type": "code",
   "execution_count": null,
   "metadata": {},
   "outputs": [],
   "source": [
    "# Find some items\n",
    "searcher = PystacSearcher(\n",
    "    catalog=\"https://stac.staging.digitalearthpacific.org\",\n",
    "    collections=[\"dep_s1_mosaic\", \"dep_s2_geomad\"],\n",
    "    datetime=year\n",
    ")\n",
    "\n",
    "items = searcher.search(area)\n",
    "\n",
    "items_by_collection = {}\n",
    "for item in items:\n",
    "    items_by_collection.setdefault(item.collection_id, []).append(item)\n",
    "\n",
    "dem_searcher = PystacSearcher(\n",
    "    catalog=\"https://planetarycomputer.microsoft.com/api/stac/v1\",\n",
    "    collections=[\"cop-dem-glo-30\"]\n",
    ")\n",
    "items_by_collection[\"cop-dem-glo-30\"] = dem_searcher.search(area)\n",
    "\n",
    "print({k: len(v) for k, v in items_by_collection.items()})"
   ]
  },
  {
   "cell_type": "code",
   "execution_count": null,
   "metadata": {},
   "outputs": [],
   "source": [
    "data = None\n",
    "\n",
    "# Set up a data loader\n",
    "loader = OdcLoader(\n",
    "    resolution=10,\n",
    "    crs=3832,\n",
    "    groupby=\"solar_day\",\n",
    "    chunks=dict(time=1, x=4096, y=4096),\n",
    "    fail_on_error=False\n",
    ")\n",
    "\n",
    "# Run the load process, which is lazy-loaded\n",
    "\n",
    "all_data = [loader.load(items, area).squeeze(\"time\") for items in items_by_collection.values()]\n",
    "\n",
    "loaded = xr.merge(all_data, compat='override')\n",
    "loaded = loaded.rename({\"data\": \"elevation\"})\n",
    "loaded = loaded.drop_vars([\"median_vv\", \"median_vh\", \"std_vv\", \"std_vh\"])\n",
    "loaded"
   ]
  },
  {
   "cell_type": "code",
   "execution_count": null,
   "metadata": {},
   "outputs": [],
   "source": [
    "input_data = add_indices(loaded)\n",
    "input_data"
   ]
  },
  {
   "cell_type": "code",
   "execution_count": null,
   "metadata": {},
   "outputs": [],
   "source": [
    "# Set up a data processor\n",
    "processor = MLProcessor(\n",
    "    model_path=\"models/test_model_12032024.dump\",\n",
    "    chunk_size=None,\n",
    "    load_data=True\n",
    ")\n",
    "\n",
    "# Plan the processing.\n",
    "output_data = processor.process(input_data)\n",
    "output_data"
   ]
  },
  {
   "cell_type": "code",
   "execution_count": null,
   "metadata": {},
   "outputs": [],
   "source": [
    "from matplotlib import colors\n",
    "\n",
    "classes = [\n",
    "    [1, \"bare_land\", \"#968640\"],\n",
    "    [2, \"forest\", \"#064a00\"],\n",
    "    [3, \"crops\", \"#ffce33\"],\n",
    "    [4, \"grassland\", \"#d7ffa0\"],\n",
    "    [5, \"settlements\", \"#b3b2ae\"],\n",
    "    [6, \"mangroves\", \"#07b28d\"],\n",
    "    [7, \"water\", \"#71a8ff\"],\n",
    "    [8, \"quarry\", \"#b03a2e\"]\n",
    "]\n",
    "\n",
    "values_list = [c[0] for c in classes]\n",
    "color_list = [c[2] for c in classes]\n",
    "\n",
    "# Build a listed colormap.\n",
    "c_map = colors.ListedColormap(color_list)\n",
    "bounds = values_list + [9]\n",
    "norm = colors.BoundaryNorm(bounds, c_map.N)\n",
    "\n",
    "output_data[\"class\"].plot.imshow(cmap=c_map, norm=norm, size=10)"
   ]
  },
  {
   "cell_type": "code",
   "execution_count": null,
   "metadata": {},
   "outputs": [],
   "source": [
    "for var in output_data.data_vars:\n",
    "    output_data[var].odc.write_cog(f\"test_{var}_nadi.tif\", overwrite=True)\n"
   ]
  },
  {
   "cell_type": "code",
   "execution_count": null,
   "metadata": {},
   "outputs": [],
   "source": [
    "# Testing the Azure writer\n",
    "\n",
    "# from dep_tools.writers import AzureDsWriter\n",
    "# from dep_tools.namers import DepItemPath\n",
    "\n",
    "# itempath = DepItemPath(\"geomad\", \"test\", \"0.0\", datetime)\n",
    "\n",
    "# writer = AzureDsWriter(\n",
    "#     itempath=itempath,\n",
    "#     overwrite=True,\n",
    "#     convert_to_int16=False,\n",
    "#     extra_attrs=dict(dep_version=\"0.0\"),\n",
    "# )\n",
    "\n",
    "# writer.write(output_data, \"test\")\n"
   ]
  },
  {
   "cell_type": "code",
   "execution_count": null,
   "metadata": {},
   "outputs": [],
   "source": [
    "# Testing the AWS writer\n",
    "\n",
    "from dep_tools.writers import AwsDsCogWriter\n",
    "from dep_tools.namers import DepItemPath\n",
    "\n",
    "itempath = DepItemPath(\"geomad\", \"test\", \"0.0\", datetime)\n",
    "\n",
    "writer = AwsDsCogWriter(\n",
    "    itempath=itempath,\n",
    "    overwrite=False,\n",
    "    convert_to_int16=False,\n",
    "    extra_attrs=dict(dep_version=\"0.0\"),\n",
    "    bucket=\"files.auspatious.com\"\n",
    ")\n",
    "\n",
    "writer.write(output_data, \"test\")"
   ]
  },
  {
   "cell_type": "code",
   "execution_count": null,
   "metadata": {},
   "outputs": [],
   "source": [
    "from odc.stac import load\n",
    "from pystac import Item\n",
    "\n",
    "item = Item.from_file(\"https://deppcpublicstorage.blob.core.windows.net/output/dep_geomad_test/0-0/test/2023-01/dep_geomad_test_test_2023-01.stac-item.json\")\n",
    "\n",
    "data = load([item], chunks={})\n",
    "data"
   ]
  },
  {
   "cell_type": "code",
   "execution_count": null,
   "metadata": {},
   "outputs": [],
   "source": [
    "# This is the target path\n",
    "dep_path = LocalPath(\n",
    "    local_folder=\"data\",\n",
    "    sensor=\"s1\",\n",
    "    dataset_id=\"mosaic\",\n",
    "    version=\"0.0.0\",\n",
    "    time=datetime,\n",
    "    zero_pad_numbers=True\n",
    ")\n",
    "\n",
    "# Set up a writer and write out the files\n",
    "writer = LocalDsWriter(\n",
    "    itempath=dep_path,\n",
    "    output_nodata=0,\n",
    "    use_odc_writer=True,\n",
    "    overwrite=True,\n",
    "    convert_to_int16=False\n",
    ")\n",
    "print(f\"Writing to: {dep_path._folder(item_id)}\")\n",
    "out_files = writer.write(output_data, item_id)"
   ]
  },
  {
   "cell_type": "code",
   "execution_count": null,
   "metadata": {},
   "outputs": [],
   "source": [
    "# Make sure written files are readable\n",
    "stac_path = writer.itempath.path(item_id, ext=\".stac-item.json\")\n",
    "\n",
    "item = Item.from_file(stac_path)\n",
    "item.validate()"
   ]
  },
  {
   "cell_type": "code",
   "execution_count": null,
   "metadata": {},
   "outputs": [],
   "source": [
    "from pystac import Item\n",
    "from odc.stac import load\n",
    "from odc.stac import configure_s3_access\n",
    "\n",
    "configure_s3_access(cloud_defaults=True, aws_unsigned=True)\n",
    "item = Item.from_file(\"https://dep-public-test.s3.us-west-2.amazonaws.com/dep_s1_mosaic/0-0-3b/066/020/2023/dep_s1_mosaic_066_020_2023.stac-item.json\")\n",
    "\n",
    "data = load([item], chunks={})"
   ]
  },
  {
   "cell_type": "code",
   "execution_count": null,
   "metadata": {},
   "outputs": [],
   "source": [
    "data.isel(time=0).mean_vv.plot.imshow(size=10, robust=True)"
   ]
  },
  {
   "cell_type": "markdown",
   "metadata": {},
   "source": []
  }
 ],
 "metadata": {
  "kernelspec": {
   "display_name": "Python 3 (ipykernel)",
   "language": "python",
   "name": "python3"
  },
  "language_info": {
   "codemirror_mode": {
    "name": "ipython",
    "version": 3
   },
   "file_extension": ".py",
   "mimetype": "text/x-python",
   "name": "python",
   "nbconvert_exporter": "python",
   "pygments_lexer": "ipython3",
   "version": "3.11.6"
  }
 },
 "nbformat": 4,
 "nbformat_minor": 4
}
